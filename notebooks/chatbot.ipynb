{
 "cells": [
  {
   "cell_type": "code",
   "execution_count": 1,
   "id": "d8a2bfc3-1a19-4f7f-ac81-62c6eac3b6b3",
   "metadata": {},
   "outputs": [
    {
     "name": "stdout",
     "output_type": "stream",
     "text": [
      "['chatbot.ipynb', '.ipynb_checkpoints']\n",
      "dotenv loaded: True\n"
     ]
    }
   ],
   "source": [
    "import os \n",
    "from dotenv import load_dotenv\n",
    "\n",
    "load_dotenv()\n",
    "\n",
    "print(os.listdir()) \n",
    "\n",
    "success = load_dotenv()\n",
    "print(f\"dotenv loaded: {success}\")\n",
    "\n",
    "os.environ[\"TAVILY_API_KEY\"] =  os.getenv(\"TVLY_API_KEY\")"
   ]
  },
  {
   "cell_type": "code",
   "execution_count": 2,
   "id": "7bfc51bb-3ba7-41b5-ae35-f5e4f9137793",
   "metadata": {},
   "outputs": [
    {
     "data": {
      "text/plain": [
       "{'query': \"What's a 'node' in LangGraph?\",\n",
       " 'follow_up_questions': None,\n",
       " 'answer': None,\n",
       " 'images': [],\n",
       " 'results': [{'title': 'Nodes and Edges | langchain-ai/langgraph-101 | DeepWiki',\n",
       "   'url': 'https://deepwiki.com/langchain-ai/langgraph-101/2.2-nodes-and-edges',\n",
       "   'content': 'Nodes and Edges | langchain-ai/langgraph-101 | DeepWiki Nodes and Edges Nodes and Edges What are Nodes and Edges? In LangGraph, a graph is composed of nodes connected by edges to form a directed workflow. Nodes are the workhorses of LangGraph - they are Python functions that receive the current graph state as input, perform operations, and return updates to that state. Edges define the flow of execution between nodes in a LangGraph. graph_builder.add_edge(\"retrieve_documents\", \"generate_response\") Conditional edges use a function to determine the next node based on the current state. Building a Graph with Nodes and Edges graph_builder.add_node(\"retrieve_documents\", retrieve_documents) graph_builder.add_edge(\"retrieve_documents\", \"generate_response\") When designing nodes and edges in LangGraph: Nodes and Edges What are Nodes and Edges? Building a Graph with Nodes and Edges',\n",
       "   'score': 0.8559598,\n",
       "   'raw_content': None},\n",
       "  {'title': 'LangGraph Basics: Understanding State, Schema, Nodes, and Edges',\n",
       "   'url': 'https://medium.com/@vivekvjnk/langgraph-basics-understanding-state-schema-nodes-and-edges-77f2fd17cae5',\n",
       "   'content': 'LangGraph Basics: Understanding State, Schema, Nodes, and Edges | by Story_Teller | Medium LangGraph Basics: Understanding State, Schema, Nodes, and Edges LangGraph Basics: Understanding State, Schema, Nodes, and Edges These predefined structures in the messaging app are synonymous with the schema of the state in LangGraph. Just as a messaging app ensures all interactions (messages) follow a consistent format, the schema in LangGraph ensures the state passed along edges is structured and interpretable. This static schema allows nodes to rely on a consistent state format, ensuring seamless communication along edges throughout the graph. In this article, we explored the foundational concepts of graph-based systems, drawing parallels to familiar messaging applications to illustrate how edges, nodes, and state transitions function seamlessly in dynamic workflows.',\n",
       "   'score': 0.6501347,\n",
       "   'raw_content': None}],\n",
       " 'response_time': 1.55}"
      ]
     },
     "execution_count": 2,
     "metadata": {},
     "output_type": "execute_result"
    }
   ],
   "source": [
    "from langchain_tavily import TavilySearch\n",
    "\n",
    "tool = TavilySearch(max_results=2) \n",
    "tools = [tool]\n",
    "\n",
    "tool.invoke(\"What's a 'node' in LangGraph?\")"
   ]
  },
  {
   "cell_type": "code",
   "execution_count": 3,
   "id": "62e13b49-a7e6-450d-bdb2-0e77d6c77fc3",
   "metadata": {},
   "outputs": [],
   "source": [
    "# 2. Add a node\n",
    "from langchain.chat_models import init_chat_model\n",
    "from dotenv import load_dotenv\n",
    "import os \n",
    "\n",
    "load_dotenv()\n",
    "\n",
    "os.environ[\"GOOGLE_API_KEY\"] = os.getenv('GOOGLE_API_KEY')\n",
    "\n",
    "llm = init_chat_model(\"google_genai:gemini-2.0-flash\")"
   ]
  },
  {
   "cell_type": "code",
   "execution_count": 4,
   "id": "6e7f7941-f59b-40ec-8ef6-0ae952606c4f",
   "metadata": {},
   "outputs": [
    {
     "data": {
      "text/plain": [
       "<langgraph.graph.state.StateGraph at 0x105ecd7f0>"
      ]
     },
     "execution_count": 4,
     "metadata": {},
     "output_type": "execute_result"
    }
   ],
   "source": [
    "from typing import Annotated\n",
    "from typing_extensions import TypedDict\n",
    "\n",
    "from langgraph.graph import StateGraph,START,END\n",
    "from langgraph.graph.message import add_messages\n",
    "\n",
    "# 1. Create a StateGraph\n",
    "class State(TypedDict):\n",
    "    messages: Annotated[list,add_messages]\n",
    "\n",
    "# Tell the LLM which tools it can call\n",
    "llm_with_tools = llm.bind_tools(tools)\n",
    "\n",
    "graph_builder = StateGraph(State)\n",
    "\n",
    "def chatbot(state: State):\n",
    "    return {\"messages\": [llm_with_tools.invoke(state[\"messages\"])]}\n",
    "\n",
    "# The first argument is the unique node name\n",
    "# The second argument is the function or object that will be called whenever\n",
    "# the node is used.\n",
    "graph_builder.add_node(\"chatbot\", chatbot)"
   ]
  },
  {
   "cell_type": "code",
   "execution_count": 5,
   "id": "9bd040ed-365b-4cc7-b7e8-3f583b1c0156",
   "metadata": {},
   "outputs": [
    {
     "data": {
      "text/plain": [
       "<langgraph.graph.state.StateGraph at 0x105ecd7f0>"
      ]
     },
     "execution_count": 5,
     "metadata": {},
     "output_type": "execute_result"
    }
   ],
   "source": [
    "import json \n",
    "from langchain_core.messages import ToolMessage\n",
    "\n",
    "class BasicToolNode: \n",
    "    \"\"\"A node that runs the tools requested in the last AIMessage.\"\"\"\n",
    "    def __init__(self,tools:list)->None:\n",
    "        self.tools_by_name = {tool.name: tool for tool in tools}\n",
    "\n",
    "    def __call__(self,inputs:dict): \n",
    "        if messages := inputs.get('messages',[]):\n",
    "            message = messages[-1]\n",
    "        else: \n",
    "            raise ValueError(\"No message found in input\")\n",
    "        outputs = []\n",
    "        for tool_call in message.tool_calls: \n",
    "            tool_result = self.tools_by_name[tool_call[\"name\"]].invoke(tool_call[\"args\"])\n",
    "            outputs.append( \n",
    "                ToolMessage( \n",
    "                    content=json.dumps(tool_result),\n",
    "                    name=tool_call['name'], \n",
    "                    tool_call_id=tool_call['id'], \n",
    "                )\n",
    "            )\n",
    "        return {\"messages\":outputs}\n",
    "\n",
    "tool_node = BasicToolNode(tools=[tool]) \n",
    "\n",
    "graph_builder.add_node(\"tools\",tool_node)"
   ]
  },
  {
   "cell_type": "code",
   "execution_count": 6,
   "id": "0fb276c5-185e-43c4-95fc-00380b9504ba",
   "metadata": {},
   "outputs": [],
   "source": [
    "def route_tools(\n",
    "    state: State,\n",
    "):\n",
    "    \"\"\"\n",
    "    Use in the conditional_edge to route to the ToolNode if the last message\n",
    "    has tool calls. Otherwise, route to the end.\n",
    "    \"\"\"\n",
    "    if isinstance(state, list):\n",
    "        ai_message = state[-1]\n",
    "    elif messages := state.get(\"messages\", []):\n",
    "        ai_message = messages[-1]\n",
    "    else:\n",
    "        raise ValueError(f\"No messages found in input state to tool_edge: {state}\")\n",
    "    if hasattr(ai_message, \"tool_calls\") and len(ai_message.tool_calls) > 0:\n",
    "        return \"tools\"\n",
    "    return END\n",
    "\n",
    "\n",
    "# The `tools_condition` function returns \"tools\" if the chatbot asks to use a tool, and \"END\" if\n",
    "# it is fine directly responding. This conditional routing defines the main agent loop.\n",
    "graph_builder.add_conditional_edges(\n",
    "    \"chatbot\",\n",
    "    route_tools,\n",
    "    # The following dictionary lets you tell the graph to interpret the condition's outputs as a specific node\n",
    "    # It defaults to the identity function, but if you\n",
    "    # want to use a node named something else apart from \"tools\",\n",
    "    # You can update the value of the dictionary to something else\n",
    "    # e.g., \"tools\": \"my_tools\"\n",
    "    {\"tools\": \"tools\", END: END},\n",
    ")\n",
    "\n",
    "# Any time a tool is called, we return to the chatbot to decide the next step\n",
    "graph_builder.add_edge(\"tools\", \"chatbot\")\n",
    "graph_builder.add_edge(START, \"chatbot\")\n",
    "graph = graph_builder.compile()"
   ]
  },
  {
   "cell_type": "code",
   "execution_count": 7,
   "id": "3eac6857-697a-4090-8e12-18a49b6a43eb",
   "metadata": {},
   "outputs": [],
   "source": [
    "from langgraph.checkpoint.memory import MemorySaver\n",
    "\n",
    "memory = MemorySaver()"
   ]
  },
  {
   "cell_type": "code",
   "execution_count": 8,
   "id": "450d1ef5-ca08-4ad7-9ac7-a7babb7bd4fe",
   "metadata": {},
   "outputs": [],
   "source": [
    "graph = graph_builder.compile(checkpointer=memory)"
   ]
  },
  {
   "cell_type": "code",
   "execution_count": 9,
   "id": "ed221696-9e3a-4ece-a21b-fe24def9e06b",
   "metadata": {},
   "outputs": [
    {
     "data": {
      "image/png": "[encoded data removed]",
      "text/plain": [
       "<IPython.core.display.Image object>"
      ]
     },
     "metadata": {},
     "output_type": "display_data"
    }
   ],
   "source": [
    "# Visualize the graph(optional)\n",
    "from IPython.display import Image,display\n",
    "\n",
    "try:\n",
    "    display(Image(graph.get_graph().draw_mermaid_png()))\n",
    "except Exception as e:\n",
    "    print(f\"Error: {e}\")"
   ]
  },
  {
   "cell_type": "code",
   "execution_count": 12,
   "id": "a9ad0c8c-bfb4-428d-b5b2-ec4287df31cd",
   "metadata": {},
   "outputs": [],
   "source": [
    "config = {\"configurable\": {\"thread_id\": \"1\"}}"
   ]
  },
  {
   "cell_type": "code",
   "execution_count": 13,
   "id": "12d2b263-fb78-4ff3-8a51-3109d92b18e5",
   "metadata": {},
   "outputs": [
    {
     "name": "stdout",
     "output_type": "stream",
     "text": [
      "================================\u001b[1m Human Message \u001b[0m=================================\n",
      "\n",
      "Hi there! My name is Will.\n",
      "==================================\u001b[1m Ai Message \u001b[0m==================================\n",
      "\n",
      "Hi Will, nice to meet you! Is there anything I can help you with today?\n"
     ]
    }
   ],
   "source": [
    "user_input = \"Hi there! My name is Will.\"\n",
    "\n",
    "# The config is the **second positional argument** to stream() or invoke()!\n",
    "events = graph.stream(\n",
    "    {\"messages\": [{\"role\": \"user\", \"content\": user_input}]},\n",
    "    config,\n",
    "    stream_mode=\"values\",\n",
    ")\n",
    "for event in events:\n",
    "    event[\"messages\"][-1].pretty_print()"
   ]
  },
  {
   "cell_type": "code",
   "execution_count": 14,
   "id": "9538f661-67fe-4ce5-afe0-5a7d1ec1ca8e",
   "metadata": {},
   "outputs": [
    {
     "name": "stdout",
     "output_type": "stream",
     "text": [
      "================================\u001b[1m Human Message \u001b[0m=================================\n",
      "\n",
      "Yeah, I would like to learn about Langraph and Langsmith how both works together\n",
      "==================================\u001b[1m Ai Message \u001b[0m==================================\n",
      "Tool Calls:\n",
      "  tavily_search (83fd4fad-c7a9-4951-810d-faf395e18189)\n",
      " Call ID: 83fd4fad-c7a9-4951-810d-faf395e18189\n",
      "  Args:\n",
      "    search_depth: advanced\n",
      "    query: Langraph and Langsmith how they work together\n",
      "=================================\u001b[1m Tool Message \u001b[0m=================================\n",
      "Name: tavily_search\n",
      "\n",
      "{\"query\": \"Langraph and Langsmith how they work together\", \"follow_up_questions\": null, \"answer\": null, \"images\": [], \"results\": [{\"url\": \"https://blog.stackademic.com/langchain-langgraph-and-langsmith-the-trio-for-building-agentic-ai-apps-9da1b653a65f\", \"title\": \"LangChain, LangGraph, and LangSmith: The Trio for Building ...\", \"content\": \"A Unified Ecosystem: How LangChain, LangGraph, and LangSmith Work Together\\n\\nIndividually, LangChain, LangGraph, and LangSmith are powerful tools. Together, they form an ecosystem that enables developers to:\\n\\nPractical Example: Research Assistant\\n\\nImagine you\\u2019re building an autonomous research assistant for summarizing academic papers. Here\\u2019s how the trio works together:\\n\\nStep-by-Step Tutorial: Building an AI Agent\\n\\nStep 1: Install Dependencies\\n\\nStep 2: Define a Workflow with LangChain [...] This is where LangChain, LangGraph, and LangSmith shine. Together, they provide a comprehensive toolkit for building modular, scalable, and intelligent AI systems. Whether you\\u2019re an AI developer, ML engineer, or software architect, this trio can dramatically simplify the process of bringing agentic AI applications to life.\\n\\nOverview of the Trio\\n\\nLangChain: Simplifying Task Chaining with LLMs [...] LangGraph is particularly valuable when building complex systems that require multiple interconnected components, such as an AI-driven research assistant that gathers data, analyzes it, and synthesizes insights.\\n\\nLangSmith: Orchestrating Agentic Behaviors\\n\\nLangSmith excels at orchestrating and testing the behaviors of complex AI agents. Key features include:\\n\\nBy providing tools to monitor and refine agent behavior, LangSmith helps developers build reliable and adaptive AI systems.\", \"score\": 0.8752871, \"raw_content\": null}, {\"url\": \"https://blog.langchain.dev/langgraph-studio-the-first-agent-ide/\", \"title\": \"LangGraph Studio: The first agent IDE - LangChain Blog\", \"content\": \"LangGraph features a persistence layer that enables human-in-the-loop interactions, and it excels at building complex (i.e. more than a single LLM call) applications that require highly domain-specific cognitive architecture. Most of the agents we see in production fit this description.\\nLangGraph is fully open source, available in both Python and Javascript. It works with or without LangChain, and integrates seamlessly with LangSmith.\", \"score\": 0.8047902, \"raw_content\": null}], \"response_time\": 2.41}\n",
      "==================================\u001b[1m Ai Message \u001b[0m==================================\n",
      "\n",
      "LangChain, LangGraph, and LangSmith form a unified ecosystem for building AI applications. LangChain simplifies task chaining with LLMs, while LangGraph excels at building complex systems requiring interconnected components and domain-specific cognitive architecture. LangSmith orchestrates and tests the behaviors of complex AI agents, providing tools to monitor and refine agent behavior. Together, they offer a comprehensive toolkit for building modular, scalable, and intelligent AI systems. LangGraph integrates seamlessly with LangSmith and can be used with or without LangChain.\n"
     ]
    }
   ],
   "source": [
    "# The only difference is we change the `thread_id` here to \"2\" instead of \"1\"\n",
    "events = graph.stream(\n",
    "    {\"messages\": [{\"role\": \"user\", \"content\": \"Yeah, I would like to learn about Langraph and Langsmith how both works together\"}]},\n",
    "    {\"configurable\": {\"thread_id\": \"2\"}},\n",
    "    stream_mode=\"values\",\n",
    ")\n",
    "for event in events:\n",
    "    event[\"messages\"][-1].pretty_print()"
   ]
  },
  {
   "cell_type": "code",
   "execution_count": 15,
   "id": "ee57b9c4-5da7-4aaf-99f6-a90b12f6abb2",
   "metadata": {},
   "outputs": [
    {
     "data": {
      "text/plain": [
       "StateSnapshot(values={'messages': [HumanMessage(content='Hi there! My name is Will.', additional_kwargs={}, response_metadata={}, id='84fc1ed5-ddea-4aa3-80fa-17c6579c8c5f'), AIMessage(content='Hi Will, nice to meet you! Is there anything I can help you with today?', additional_kwargs={}, response_metadata={'prompt_feedback': {'block_reason': 0, 'safety_ratings': []}, 'finish_reason': 'STOP', 'model_name': 'gemini-2.0-flash', 'safety_ratings': []}, id='run--2f7fee03-97b6-4d08-b0c0-3c67ca4cf983-0', usage_metadata={'input_tokens': 491, 'output_tokens': 19, 'total_tokens': 510, 'input_token_details': {'cache_read': 0}})]}, next=(), config={'configurable': {'thread_id': '1', 'checkpoint_ns': '', 'checkpoint_id': '1f03485c-291b-6400-8001-f0cc43279285'}}, metadata={'source': 'loop', 'writes': {'chatbot': {'messages': [AIMessage(content='Hi Will, nice to meet you! Is there anything I can help you with today?', additional_kwargs={}, response_metadata={'prompt_feedback': {'block_reason': 0, 'safety_ratings': []}, 'finish_reason': 'STOP', 'model_name': 'gemini-2.0-flash', 'safety_ratings': []}, id='run--2f7fee03-97b6-4d08-b0c0-3c67ca4cf983-0', usage_metadata={'input_tokens': 491, 'output_tokens': 19, 'total_tokens': 510, 'input_token_details': {'cache_read': 0}})]}}, 'step': 1, 'parents': {}, 'thread_id': '1'}, created_at='2025-05-19T07:49:14.810848+00:00', parent_config={'configurable': {'thread_id': '1', 'checkpoint_ns': '', 'checkpoint_id': '1f03485c-11dc-6974-8000-240288308e36'}}, tasks=(), interrupts=())"
      ]
     },
     "execution_count": 15,
     "metadata": {},
     "output_type": "execute_result"
    }
   ],
   "source": [
    "snapshot = graph.get_state(config)\n",
    "snapshot"
   ]
  },
  {
   "cell_type": "code",
   "execution_count": null,
   "id": "fd1313ed-c94e-44b1-b6bc-109dd497ce0e",
   "metadata": {},
   "outputs": [],
   "source": []
  }
 ],
 "metadata": {
  "kernelspec": {
   "display_name": "Python 3 (ipykernel)",
   "language": "python",
   "name": "python3"
  },
  "language_info": {
   "codemirror_mode": {
    "name": "ipython",
    "version": 3
   },
   "file_extension": ".py",
   "mimetype": "text/x-python",
   "name": "python",
   "nbconvert_exporter": "python",
   "pygments_lexer": "ipython3",
   "version": "3.13.2"
  }
 },
 "nbformat": 4,
 "nbformat_minor": 5
}
