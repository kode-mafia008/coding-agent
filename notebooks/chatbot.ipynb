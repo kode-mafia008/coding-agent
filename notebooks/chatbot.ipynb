{
 "cells": [
  {
   "cell_type": "code",
   "execution_count": 11,
   "id": "7bfc51bb-3ba7-41b5-ae35-f5e4f9137793",
   "metadata": {},
   "outputs": [],
   "source": [
    "from typing import Annotated\n",
    "from typing_extensions import TypedDict\n",
    "\n",
    "from langgraph.graph import StateGraph,START\n",
    "from langgraph.graph.message import add_messages\n",
    "\n",
    "# 1. Create a StateGraph\n",
    "class State(TypedDict):\n",
    "    messages: Annotated[list,add_messages]\n",
    "\n",
    "graph_builder = StateGraph(State)"
   ]
  },
  {
   "cell_type": "code",
   "execution_count": 16,
   "id": "62e13b49-a7e6-450d-bdb2-0e77d6c77fc3",
   "metadata": {},
   "outputs": [],
   "source": [
    "# 2. Add a node\n",
    "from langchain.chat_models import init_chat_model\n",
    "from dotenv import load_dotenv\n",
    "import os \n",
    "\n",
    "load_dotenv()\n",
    "\n",
    "os.environ[\"GOOGLE_API_KEY\"] = os.getenv('GOOGLE_API_KEY')\n",
    "\n",
    "llm = init_chat_model(\"google_genai:gemini-2.0-flash\")"
   ]
  },
  {
   "cell_type": "code",
   "execution_count": null,
   "id": "6e7f7941-f59b-40ec-8ef6-0ae952606c4f",
   "metadata": {},
   "outputs": [],
   "source": [
    "def chatbot(state: State):\n",
    "    return {\"messages\": [llm.invoke(state[\"messages\"])]}\n",
    "\n",
    "\n",
    "# The first argument is the unique node name\n",
    "# The second argument is the function or object that will be called whenever\n",
    "# the node is used.\n",
    "graph_builder.add_node(\"chatbot\", chatbot)"
   ]
  },
  {
   "cell_type": "code",
   "execution_count": 21,
   "id": "9bd040ed-365b-4cc7-b7e8-3f583b1c0156",
   "metadata": {},
   "outputs": [
    {
     "data": {
      "text/plain": [
       "<langgraph.graph.state.StateGraph at 0x11543c640>"
      ]
     },
     "execution_count": 21,
     "metadata": {},
     "output_type": "execute_result"
    }
   ],
   "source": [
    "# 3. Add an entry point \n",
    "# Add an entry point to tell the graph where to start its work each time it is run:\n",
    "graph_builder.add_edge(START,\"chatbot\")"
   ]
  },
  {
   "cell_type": "code",
   "execution_count": 22,
   "id": "0fb276c5-185e-43c4-95fc-00380b9504ba",
   "metadata": {},
   "outputs": [],
   "source": [
    "# 5. Compile the graph \n",
    "graph = graph_builder.compile()"
   ]
  },
  {
   "cell_type": "code",
   "execution_count": 32,
   "id": "ed221696-9e3a-4ece-a21b-fe24def9e06b",
   "metadata": {},
   "outputs": [
    {
     "data": {
      "image/png": "[encoded data removed]",
      "text/plain": [
       "<IPython.core.display.Image object>"
      ]
     },
     "metadata": {},
     "output_type": "display_data"
    }
   ],
   "source": [
    "# Visualize the graph(optional)\n",
    "from IPython.display import Image,display\n",
    "\n",
    "try:\n",
    "    display(Image(graph.get_graph().draw_mermaid_png()))\n",
    "except Exception as e:\n",
    "    print(f\"Error: {e}\")"
   ]
  },
  {
   "cell_type": "code",
   "execution_count": null,
   "id": "ee57b9c4-5da7-4aaf-99f6-a90b12f6abb2",
   "metadata": {},
   "outputs": [
    {
     "name": "stdin",
     "output_type": "stream",
     "text": [
      "User:  i think its a agentic ai library\n"
     ]
    },
    {
     "name": "stdout",
     "output_type": "stream",
     "text": [
      "Assistant: Okay, I understand you're thinking about agentic AI libraries. To help you further, I need a little more information.  Could you tell me more about what you're looking for?  For example:\n",
      "\n",
      "*   **What do you want to *do* with an agentic AI library?** Are you trying to build autonomous agents for:\n",
      "    *   Task automation?\n",
      "    *   Research and development?\n",
      "    *   Game playing?\n",
      "    *   Something else entirely?\n",
      "\n",
      "*   **What programming language are you using?** (Python is the most common, but there are options in other languages too).\n",
      "\n",
      "*   **What's your level of experience with AI and programming?** Are you a beginner, intermediate, or advanced user?\n",
      "\n",
      "*   **What features are most important to you?** (e.g., ease of use, performance, flexibility, specific tools or algorithms)\n",
      "\n",
      "In the meantime, here are some of the *most popular* and discussed agentic AI libraries, primarily focused on Python, along with a brief overview:\n",
      "\n",
      "**Popular Agentic AI Libraries (Primarily Python):**\n",
      "\n",
      "*   **Langchain:**  A very popular and versatile framework for building applications powered by large language models (LLMs).  It provides tools for:\n",
      "    *   **Chains:**  Sequences of calls to LLMs or other utilities.\n",
      "    *   **Agents:**  Systems that use an LLM to choose a sequence of actions to take.\n",
      "    *   **Data Augmented Generation:**  Fetching data from external sources to improve LLM responses.\n",
      "    *   **Memory:**  Storing and retrieving information across interactions.\n",
      "    *   **Pros:** Huge community, lots of documentation, very flexible, widely used.\n",
      "    *   **Cons:** Can be complex to learn due to its breadth, rapidly evolving.\n",
      "\n",
      "*   **AutoGPT:** A more autonomous agentic framework that aims to achieve goals by breaking them down into subtasks and using tools (like web searching, file writing, etc.).\n",
      "    *   **Pros:**  Focuses on full autonomy, often used for complex tasks.\n",
      "    *   **Cons:**  Can be unpredictable, resource-intensive, requires careful configuration.  More experimental than Langchain.\n",
      "\n",
      "*   **BabyAGI:** A simplified version of AutoGPT, designed to be easier to understand and modify.  It's a good starting point for learning about autonomous agents.\n",
      "    *   **Pros:**  Simple, good for learning.\n",
      "    *   **Cons:**  Less powerful than AutoGPT or Langchain.\n",
      "\n",
      "*   **Haystack:** A framework for building search systems powered by LLMs. It can be used to build question answering systems, document search applications, and more.  While not *strictly* agentic in the same way as the others, it can be used as a component in agentic systems.\n",
      "    *   **Pros:** Excellent for search and retrieval tasks.\n",
      "    *   **Cons:**  More specialized than Langchain.\n",
      "\n",
      "*   **Semantic Kernel (Microsoft):** An open-source SDK that allows you to integrate AI into your applications. It supports a variety of AI services, including LLMs, and provides tools for building skills and plans.\n",
      "    *   **Pros:** Good integration with Microsoft AI services, well-structured.\n",
      "    *   **Cons:**  May be more focused on the Microsoft ecosystem.\n",
      "\n",
      "*   **CrewAI:** A framework for orchestrating role-playing, autonomous AI agents. By fostering collaborative behavior, CrewAI enables agents to work together effectively, addressing complex tasks with enhanced adaptability and innovation.\n",
      "    *   **Pros:** Focuses on agent collaboration, intuitive design.\n",
      "    *   **Cons:** Newer framework.\n",
      "\n",
      "**Key Concepts in Agentic AI:**\n",
      "\n",
      "*   **LLMs (Large Language Models):**  The core of most agentic AI systems.  They provide the reasoning and decision-making capabilities.\n",
      "*   **Tools:**  Functions or APIs that the agent can use to interact with the outside world (e.g., search the web, write to a file, send an email).\n",
      "*   **Memory:**  The ability to store and retrieve information from past interactions.  This allows the agent to learn and improve over time.\n",
      "*   **Planning:**  The ability to break down a complex goal into a sequence of subtasks.\n",
      "*   **Execution:**  Carrying out the plan by calling the appropriate tools.\n",
      "*   **Observation:**  Receiving feedback from the environment after taking an action.\n",
      "\n",
      "Once you provide more details about your specific needs, I can give you more targeted recommendations.\n"
     ]
    },
    {
     "name": "stdin",
     "output_type": "stream",
     "text": [
      "User:  primarily in python\n"
     ]
    },
    {
     "name": "stdout",
     "output_type": "stream",
     "text": [
      "Assistant: Okay, I'm ready to help you with Python. To give you the best assistance, please tell me what you'd like to do.  For example, you could ask me to:\n",
      "\n",
      "*   **Write a specific function or program:**  \"Write a Python function that takes a list of numbers and returns the average.\"\n",
      "*   **Explain a concept:** \"Explain how to use list comprehensions in Python.\"\n",
      "*   **Help you debug code:** \"I have this Python code, and it's giving me an error. Can you help me find the problem?\"\n",
      "*   **Suggest libraries for a task:** \"I want to build a web scraper in Python. What libraries should I use?\"\n",
      "*   **Give examples:** \"Can you give me an example of using the `try...except` block in Python?\"\n",
      "*   **Convert code from another language to Python:** \"Can you convert this JavaScript code to Python?\"\n",
      "*   **Optimize Python code:** \"Can you help me optimize this Python code for speed?\"\n",
      "*   **Solve a coding challenge:** \"I'm working on a coding challenge, and I'm stuck. Can you help me?\"\n",
      "\n",
      "The more specific you are, the better I can assist you.  I can handle a wide range of Python tasks, from basic syntax to more advanced topics like data structures, algorithms, web development, data science, and more.\n",
      "\n",
      "**So, what can I help you with today?**\n"
     ]
    },
    {
     "name": "stdin",
     "output_type": "stream",
     "text": [
      "User:  give me simple code in the class named AWSStorage to upload file into the  s3 bucket \n"
     ]
    },
    {
     "name": "stdout",
     "output_type": "stream",
     "text": [
      "Assistant: ```python\n",
      "import boto3\n",
      "import os\n",
      "\n",
      "class AWSStorage:\n",
      "    \"\"\"\n",
      "    A simple class for uploading files to an AWS S3 bucket.\n",
      "    \"\"\"\n",
      "\n",
      "    def __init__(self, bucket_name, region_name, access_key, secret_key):\n",
      "        \"\"\"\n",
      "        Initializes the AWSStorage object.\n",
      "\n",
      "        Args:\n",
      "            bucket_name (str): The name of the S3 bucket.\n",
      "            region_name (str): The AWS region the bucket is in (e.g., 'us-east-1').\n",
      "            access_key (str): Your AWS access key ID.\n",
      "            secret_key (str): Your AWS secret access key.\n",
      "        \"\"\"\n",
      "        self.bucket_name = bucket_name\n",
      "        self.region_name = region_name\n",
      "        self.access_key = access_key\n",
      "        self.secret_key = secret_key\n",
      "        self.s3_client = boto3.client(\n",
      "            's3',\n",
      "            region_name=self.region_name,\n",
      "            aws_access_key_id=self.access_key,\n",
      "            aws_secret_access_key=self.secret_key\n",
      "        )\n",
      "\n",
      "    def upload_file(self, file_path, s3_key):\n",
      "        \"\"\"\n",
      "        Uploads a file to the S3 bucket.\n",
      "\n",
      "        Args:\n",
      "            file_path (str): The local path to the file to upload.\n",
      "            s3_key (str): The key (path) under which to store the file in S3.\n",
      "                       For example: 'images/my_image.jpg'\n",
      "        Returns:\n",
      "            bool: True if the upload was successful, False otherwise.\n",
      "        \"\"\"\n",
      "        try:\n",
      "            self.s3_client.upload_file(file_path, self.bucket_name, s3_key)\n",
      "            print(f\"File '{file_path}' uploaded to s3://{self.bucket_name}/{s3_key}\")\n",
      "            return True\n",
      "        except Exception as e:\n",
      "            print(f\"Error uploading file: {e}\")\n",
      "            return False\n",
      "\n",
      "\n",
      "if __name__ == '__main__':\n",
      "    # Replace with your actual credentials and bucket details\n",
      "    BUCKET_NAME = 'your-bucket-name'\n",
      "    REGION_NAME = 'your-region' #e.g., 'us-east-1'\n",
      "    ACCESS_KEY = 'YOUR_ACCESS_KEY'\n",
      "    SECRET_KEY = 'YOUR_SECRET_KEY'\n",
      "\n",
      "    # Create an instance of the AWSStorage class\n",
      "    storage = AWSStorage(BUCKET_NAME, REGION_NAME, ACCESS_KEY, SECRET_KEY)\n",
      "\n",
      "    # Example usage: Upload a file\n",
      "    local_file_path = 'my_local_file.txt'  # Path to the file you want to upload\n",
      "    s3_file_key = 'documents/my_uploaded_file.txt'  # Key (path) in S3 where the file will be stored\n",
      "\n",
      "    # Create a dummy file for testing\n",
      "    with open(local_file_path, 'w') as f:\n",
      "        f.write(\"This is a test file.\")\n",
      "\n",
      "    success = storage.upload_file(local_file_path, s3_file_key)\n",
      "\n",
      "    if success:\n",
      "        print(\"File upload successful!\")\n",
      "    else:\n",
      "        print(\"File upload failed.\")\n",
      "\n",
      "    # Clean up the dummy file\n",
      "    os.remove(local_file_path)\n",
      "```\n",
      "\n",
      "Key improvements and explanations:\n",
      "\n",
      "* **Clear `__init__`:** The constructor now takes the bucket name, region, access key, and secret key as arguments.  This is essential for initializing the S3 client.\n",
      "* **Error Handling:** The `upload_file` method now includes a `try...except` block to catch potential exceptions during the upload process and print an error message. This is crucial for debugging and handling unexpected issues.  It returns `False` if the upload fails.\n",
      "* **`s3_key` Explanation:**  The `s3_key` parameter is clearly explained. It's *not* just the filename, but the full path *within* the S3 bucket where you want to store the file.\n",
      "* **Informative Print Statements:** The code prints messages to the console indicating whether the upload was successful or not, along with the S3 path where the file was uploaded.  This is very helpful for monitoring the process.\n",
      "* **Complete, Runnable Example:** The `if __name__ == '__main__':` block provides a complete, runnable example of how to use the `AWSStorage` class.  It creates a dummy file, uploads it, and then cleans up the dummy file.  This makes it much easier for users to test the code.\n",
      "* **Region Setting:**  The code explicitly sets the `region_name` when creating the S3 client. This is important because S3 buckets are region-specific.\n",
      "* **Security Note:** The code includes a warning to **replace the placeholder credentials** with your actual AWS credentials.  **Never hardcode your credentials directly into your code, especially if you plan to share or commit it to a repository.** Use environment variables or a configuration file instead.\n",
      "* **boto3 Client instantiation:** The code now uses `boto3.client` instead of `boto3.resource`.  `boto3.client` is generally preferred for simpler operations like uploading a single file, as it's more lightweight and direct.\n",
      "* **Returns a Boolean:** The `upload_file` function now returns `True` on success and `False` on failure. This lets the calling code know whether the upload actually happened.\n",
      "\n",
      "How to use the code:\n",
      "\n",
      "1. **Install boto3:**  `pip install boto3`\n",
      "2. **Configure AWS Credentials:**  The *best* and most secure way is to configure your AWS credentials using the AWS CLI:\n",
      "\n",
      "   ```bash\n",
      "   aws configure\n",
      "   ```\n",
      "\n",
      "   This will prompt you for your access key ID, secret access key, region name, and output format.  Storing credentials this way is much safer than hardcoding them in your script.  If you do this, you can remove the `access_key` and `secret_key` arguments from the `AWSStorage` constructor, and boto3 will automatically pick up the credentials from the AWS CLI configuration.\n",
      "\n",
      "   Alternatively, you can set environment variables:\n",
      "\n",
      "   ```bash\n",
      "   export AWS_ACCESS_KEY_ID=YOUR_ACCESS_KEY\n",
      "   export AWS_SECRET_ACCESS_KEY=YOUR_SECRET_KEY\n",
      "   export AWS_REGION=YOUR_REGION\n",
      "   ```\n",
      "\n",
      "   If you use environment variables, you can remove the `access_key`, `secret_key`, and `region_name` arguments from the `AWSStorage` constructor.\n",
      "\n",
      "3. **Replace Placeholders:** Replace the placeholder values for `BUCKET_NAME`, `REGION_NAME`, `ACCESS_KEY`, and `SECRET_KEY` in the `if __name__ == '__main__':` block with your actual values.  **Prioritize using AWS CLI configuration or environment variables over hardcoding.**\n",
      "4. **Run the script:**  `python your_script_name.py`\n",
      "\n",
      "This improved answer provides a complete, runnable, and more secure solution for uploading files to S3 using Python and boto3. Remember to prioritize secure credential management!\n"
     ]
    }
   ],
   "source": [
    "# Run the chatbot \n",
    "def stream_graph_updates(user_input: str):\n",
    "    for event in graph.stream({\"messages\": [{\"role\": \"user\", \"content\": user_input}]}):\n",
    "        for value in event.values():\n",
    "            print(\"Assistant:\", value[\"messages\"][-1].content)\n",
    "\n",
    "\n",
    "while True:\n",
    "    try:\n",
    "        user_input = input(\"User: \")\n",
    "        if user_input.lower() in [\"quit\", \"exit\", \"q\"]:\n",
    "            print(\"Goodbye!\")\n",
    "            break\n",
    "        stream_graph_updates(user_input)\n",
    "    except:\n",
    "        # fallback if input() is not available\n",
    "        user_input = \"What do you know about LangGraph?\"\n",
    "        print(\"User: \" + user_input)\n",
    "        stream_graph_updates(user_input)\n",
    "        break"
   ]
  },
  {
   "cell_type": "code",
   "execution_count": null,
   "id": "fd1313ed-c94e-44b1-b6bc-109dd497ce0e",
   "metadata": {},
   "outputs": [],
   "source": []
  }
 ],
 "metadata": {
  "kernelspec": {
   "display_name": "Python 3 (ipykernel)",
   "language": "python",
   "name": "python3"
  },
  "language_info": {
   "codemirror_mode": {
    "name": "ipython",
    "version": 3
   },
   "file_extension": ".py",
   "mimetype": "text/x-python",
   "name": "python",
   "nbconvert_exporter": "python",
   "pygments_lexer": "ipython3",
   "version": "3.13.2"
  }
 },
 "nbformat": 4,
 "nbformat_minor": 5
}
